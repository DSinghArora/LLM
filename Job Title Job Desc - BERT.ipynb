{
 "cells": [
  {
   "cell_type": "code",
   "execution_count": null,
   "id": "12f58f4c-5e37-428d-b5db-97bc3c966936",
   "metadata": {},
   "outputs": [],
   "source": [
    "# SVM on JOb title, Job Description classification.\n",
    "\n",
    "#!pip install nltk"
   ]
  },
  {
   "cell_type": "code",
   "execution_count": 64,
   "id": "feb995dd-a5c8-4622-93c2-15e1e0da4edd",
   "metadata": {},
   "outputs": [],
   "source": [
    "import pandas as pd\n",
    "import json\n",
    "from sklearn.model_selection import train_test_split\n",
    "import nltk\n",
    "from nltk.corpus import stopwords"
   ]
  },
  {
   "cell_type": "code",
   "execution_count": 67,
   "id": "a27ce275-9f22-4eef-838b-c092ea6b7884",
   "metadata": {},
   "outputs": [
    {
     "name": "stderr",
     "output_type": "stream",
     "text": [
      "[nltk_data] Downloading package stopwords to\n",
      "[nltk_data]     C:\\Users\\deep8893\\AppData\\Roaming\\nltk_data...\n"
     ]
    },
    {
     "name": "stdout",
     "output_type": "stream",
     "text": [
      "Libraries imported and NLTK data downloaded.\n"
     ]
    },
    {
     "name": "stderr",
     "output_type": "stream",
     "text": [
      "[nltk_data]   Unzipping corpora\\stopwords.zip.\n"
     ]
    }
   ],
   "source": [
    "# Download NLTK data (run this once)\n",
    "try:\n",
    "    nltk.data.find('corpora/stopwords')\n",
    "except:\n",
    "    nltk.download('stopwords')\n",
    "\n",
    "print(\"Libraries imported and NLTK data downloaded.\")"
   ]
  },
  {
   "cell_type": "code",
   "execution_count": 68,
   "id": "4a33d8cb-1b51-442b-b26c-be7d98709311",
   "metadata": {},
   "outputs": [
    {
     "data": {
      "text/html": [
       "<div>\n",
       "<style scoped>\n",
       "    .dataframe tbody tr th:only-of-type {\n",
       "        vertical-align: middle;\n",
       "    }\n",
       "\n",
       "    .dataframe tbody tr th {\n",
       "        vertical-align: top;\n",
       "    }\n",
       "\n",
       "    .dataframe thead th {\n",
       "        text-align: right;\n",
       "    }\n",
       "</style>\n",
       "<table border=\"1\" class=\"dataframe\">\n",
       "  <thead>\n",
       "    <tr style=\"text-align: right;\">\n",
       "      <th></th>\n",
       "      <th>Job Title</th>\n",
       "      <th>Job Description</th>\n",
       "    </tr>\n",
       "  </thead>\n",
       "  <tbody>\n",
       "    <tr>\n",
       "      <th>0</th>\n",
       "      <td>Flutter Developer</td>\n",
       "      <td>We are looking for hire experts flutter develo...</td>\n",
       "    </tr>\n",
       "    <tr>\n",
       "      <th>1</th>\n",
       "      <td>Django Developer</td>\n",
       "      <td>PYTHON/DJANGO (Developer/Lead) - Job Code(PDJ ...</td>\n",
       "    </tr>\n",
       "    <tr>\n",
       "      <th>2</th>\n",
       "      <td>Machine Learning</td>\n",
       "      <td>Data Scientist (Contractor)\\n\\nBangalore, IN\\n...</td>\n",
       "    </tr>\n",
       "  </tbody>\n",
       "</table>\n",
       "</div>"
      ],
      "text/plain": [
       "           Job Title                                    Job Description\n",
       "0  Flutter Developer  We are looking for hire experts flutter develo...\n",
       "1   Django Developer  PYTHON/DJANGO (Developer/Lead) - Job Code(PDJ ...\n",
       "2   Machine Learning  Data Scientist (Contractor)\\n\\nBangalore, IN\\n..."
      ]
     },
     "execution_count": 68,
     "metadata": {},
     "output_type": "execute_result"
    }
   ],
   "source": [
    "df= pd.read_csv(\"E:\\ML\\Data\\job_title_des.csv\", usecols=['Job Title','Job Description'])#, names=['label','name', 'description']\n",
    "df.head(3)"
   ]
  },
  {
   "cell_type": "code",
   "execution_count": 74,
   "id": "096e63a2-a2f0-4f08-8b0c-b3e102176800",
   "metadata": {},
   "outputs": [],
   "source": [
    "from nltk.stem import SnowballStemmer\n",
    "import re\n",
    "#data preprocessing\n",
    "stemmer = SnowballStemmer('english')\n",
    "stop_words = set(stopwords.words('english'))\n",
    "\n",
    "def preprocess_text(text):\n",
    "    if not isinstance (text, str):\n",
    "        return \"\"\n",
    "    text = text.lower()\n",
    "    text = re.sub(r'[^a-zA-Z\\s]', '', text)\n",
    "    words = text.split()\n",
    "    words = [word for word in words if word not in stop_words]\n",
    "    words = [stemmer.stem(word) for word in words]\n",
    "    return \" \".join(words)"
   ]
  },
  {
   "cell_type": "code",
   "execution_count": 75,
   "id": "df220016-5fe6-4fb6-8e19-a508ed9e9e69",
   "metadata": {},
   "outputs": [],
   "source": [
    "df['Processed Description'] = df['Job Description'].apply(preprocess_text)\n",
    "df.head(3)"
   ]
  },
  {
   "cell_type": "code",
   "execution_count": 80,
   "id": "fa202c2f-8e22-402e-ba22-69d9b91c9a30",
   "metadata": {},
   "outputs": [],
   "source": [
    "df.dropna(subset=['Job Title', 'Processed Description'], inplace=True)\n",
    "df = df[df['Processed Description'].str.strip() != '']"
   ]
  },
  {
   "cell_type": "code",
   "execution_count": 81,
   "id": "4c0382fa-9d7e-4885-b056-5df6d83b202e",
   "metadata": {},
   "outputs": [
    {
     "data": {
      "text/plain": [
       "(2277, 3)"
      ]
     },
     "execution_count": 81,
     "metadata": {},
     "output_type": "execute_result"
    }
   ],
   "source": [
    "df.shape"
   ]
  },
  {
   "cell_type": "code",
   "execution_count": 82,
   "id": "4c3df441-daa9-49d2-bdbf-c12ba4ea1cc5",
   "metadata": {},
   "outputs": [],
   "source": [
    "from sklearn.feature_extraction.text import TfidfVectorizer\n",
    "\n",
    "tfidf_vectorizer = TfidfVectorizer(max_features=5000)"
   ]
  },
  {
   "cell_type": "code",
   "execution_count": 83,
   "id": "08890bc0-740b-4cea-bcd3-097aed1688b6",
   "metadata": {},
   "outputs": [],
   "source": [
    "X = tfidf_vectorizer.fit_transform(df['Processed Description'])\n",
    "y = df['Job Title'] # Target variable"
   ]
  },
  {
   "cell_type": "code",
   "execution_count": 87,
   "id": "1035af08-d905-44ac-8e7f-d8e3d3f168bf",
   "metadata": {},
   "outputs": [
    {
     "name": "stdout",
     "output_type": "stream",
     "text": [
      "Training set size: 1821 samples\n",
      "Testing set size: 456 samples\n"
     ]
    }
   ],
   "source": [
    "X_train, X_test, y_train, y_test = train_test_split(X, y, test_size=0.2, random_state=42, stratify=y)\n",
    "print(f\"Training set size: {X_train.shape[0]} samples\")\n",
    "print(f\"Testing set size: {X_test.shape[0]} samples\")"
   ]
  },
  {
   "cell_type": "code",
   "execution_count": 119,
   "id": "c804f454-8f49-44aa-9623-a316caf7ae34",
   "metadata": {},
   "outputs": [
    {
     "name": "stdout",
     "output_type": "stream",
     "text": [
      "0.0\n",
      "0.5\n",
      "1.0\n",
      "1.5\n",
      "2.0\n",
      "2.5\n",
      "3.0\n",
      "3.5\n",
      "4.0\n",
      "4.5\n"
     ]
    }
   ],
   "source": [
    "for i in np.arange(0,5,0.5):\n",
    "    print(i)"
   ]
  },
  {
   "cell_type": "code",
   "execution_count": 120,
   "id": "3e7c0c5b-f957-4877-b5ee-2b379c7750b3",
   "metadata": {},
   "outputs": [],
   "source": [
    "from sklearn.svm import SVC\n",
    "\n",
    "accuracies = []\n",
    "for r in np.arange(1,5,0.5):\n",
    "    svm_model = SVC(kernel='linear', C=r, random_state=42)\n",
    "    svm_model.fit(X_train, y_train)\n",
    "    y_pred = svm_model.predict(X_test)\n",
    "    accuracy = accuracy_score(y_test, y_pred)\n",
    "    accuracies.append(accuracy)"
   ]
  },
  {
   "cell_type": "code",
   "execution_count": 121,
   "id": "812111a6-95f1-440d-b7b0-19949fbf2e4f",
   "metadata": {},
   "outputs": [
    {
     "data": {
      "image/png": "[encoded data removed]",
      "text/plain": [
       "<Figure size 640x480 with 1 Axes>"
      ]
     },
     "metadata": {},
     "output_type": "display_data"
    }
   ],
   "source": [
    "plt.plot(np.arange(len(accuracies)), accuracies)\n",
    "plt.show()"
   ]
  },
  {
   "cell_type": "code",
   "execution_count": 104,
   "id": "209a9f4f-00eb-4c54-bf29-bc0755d7e0b5",
   "metadata": {},
   "outputs": [
    {
     "name": "stdout",
     "output_type": "stream",
     "text": [
      "Accuracy: 0.8180\n"
     ]
    }
   ],
   "source": [
    "from sklearn.metrics import classification_report, accuracy_score\n",
    "accuracy = accuracy_score(y_test, y_pred)\n",
    "print(f\"Accuracy: {accuracy:.4f}\")"
   ]
  },
  {
   "cell_type": "code",
   "execution_count": 97,
   "id": "2d2bf929-797e-48b8-9730-01254756cd19",
   "metadata": {},
   "outputs": [
    {
     "name": "stdout",
     "output_type": "stream",
     "text": [
      "\n",
      "Original Description: A senior software engineer with strong Python and Java skills, experience in cloud technologies like AWS and machine learning. Develops scalable applications.\n",
      "Predicted Job Title: Machine Learning\n",
      "\n",
      "Original Description: Entry-level marketing assistant to help with social media campaigns, content creation, and market research. Good communication skills required.\n",
      "Predicted Job Title: Full Stack Developer\n",
      "\n",
      "Original Description: Hiring a data scientist with expertise in statistical modeling, machine learning, and big data tools. Proficient in R or Python.\n",
      "Predicted Job Title: Machine Learning\n",
      "\n",
      "Original Description: We need a customer support representative for technical issues. Must have good problem-solving skills and experience with ticketing systems.\n",
      "Predicted Job Title: Network Administrator\n"
     ]
    }
   ],
   "source": [
    "new_descriptions = [\n",
    "    \"A senior software engineer with strong Python and Java skills, experience in cloud technologies like AWS and machine learning. Develops scalable applications.\",\n",
    "    \"Entry-level marketing assistant to help with social media campaigns, content creation, and market research. Good communication skills required.\",\n",
    "    \"Hiring a data scientist with expertise in statistical modeling, machine learning, and big data tools. Proficient in R or Python.\",\n",
    "    \"We need a customer support representative for technical issues. Must have good problem-solving skills and experience with ticketing systems.\"\n",
    "]\n",
    "processed_new_descriptions = [preprocess_text(desc) for desc in new_descriptions]\n",
    "X_new = tfidf_vectorizer.transform(processed_new_descriptions)\n",
    "\n",
    "new_predictions = svm_model.predict(X_new)\n",
    "\n",
    "for i, desc in enumerate(new_descriptions):\n",
    "    print(f\"\\nOriginal Description: {desc}\")\n",
    "    print(f\"Predicted Job Title: {new_predictions[i]}\")"
   ]
  },
  {
   "cell_type": "code",
   "execution_count": 98,
   "id": "59f9ad2f-a30c-4941-8cf1-4f3ecc35c9c6",
   "metadata": {},
   "outputs": [
    {
     "name": "stdout",
     "output_type": "stream",
     "text": [
      "\n",
      "Classification Report:\n",
      "                        precision    recall  f1-score   support\n",
      "\n",
      "     Backend Developer       0.47      0.59      0.52        29\n",
      "Database Administrator       0.96      0.93      0.95        28\n",
      "       DevOps Engineer       0.91      0.97      0.94        31\n",
      "      Django Developer       0.96      0.71      0.81        31\n",
      "     Flutter Developer       0.90      0.90      0.90        31\n",
      "  Full Stack Developer       0.81      0.79      0.80        28\n",
      "        Java Developer       0.58      0.66      0.62        32\n",
      "  JavaScript Developer       0.87      0.82      0.84        33\n",
      "      Machine Learning       1.00      0.87      0.93        31\n",
      " Network Administrator       1.00      0.86      0.93        29\n",
      "     Node js developer       0.93      0.84      0.89        32\n",
      "         PHP Developer       0.90      0.84      0.87        31\n",
      "     Software Engineer       0.46      0.66      0.54        32\n",
      "   Wordpress Developer       0.92      0.92      0.92        26\n",
      "         iOS Developer       0.97      0.91      0.94        32\n",
      "\n",
      "              accuracy                           0.82       456\n",
      "             macro avg       0.84      0.82      0.83       456\n",
      "          weighted avg       0.84      0.82      0.82       456\n",
      "\n"
     ]
    }
   ],
   "source": [
    "print(\"\\nClassification Report:\")\n",
    "print(classification_report(y_test, y_pred, zero_division=0)) # zero_division=0 handles cases with no true samples for a label"
   ]
  },
  {
   "cell_type": "code",
   "execution_count": null,
   "id": "264c9b9b-660c-4873-b29c-79200f5b8efe",
   "metadata": {},
   "outputs": [],
   "source": []
  },
  {
   "cell_type": "code",
   "execution_count": null,
   "id": "f3f59d15-9e1b-4e90-bc6e-88b27a5a191e",
   "metadata": {},
   "outputs": [],
   "source": []
  },
  {
   "cell_type": "code",
   "execution_count": null,
   "id": "7591a7eb-35b9-4cda-ab9b-f03b383572bc",
   "metadata": {},
   "outputs": [],
   "source": []
  },
  {
   "cell_type": "code",
   "execution_count": null,
   "id": "37004315-1a09-49f2-8a95-a8ed41e04215",
   "metadata": {},
   "outputs": [],
   "source": []
  },
  {
   "cell_type": "code",
   "execution_count": 1,
   "id": "a2af18bf-cd09-426e-a8fe-b3a4fbfb7dc5",
   "metadata": {},
   "outputs": [
    {
     "name": "stderr",
     "output_type": "stream",
     "text": [
      "C:\\Users\\deep8893\\AppData\\Local\\anaconda3\\envs\\myenv\\Lib\\site-packages\\tqdm\\auto.py:21: TqdmWarning: IProgress not found. Please update jupyter and ipywidgets. See https://ipywidgets.readthedocs.io/en/stable/user_install.html\n",
      "  from .autonotebook import tqdm as notebook_tqdm\n"
     ]
    }
   ],
   "source": [
    "import pandas as pd\n",
    "import json\n",
    "from sklearn.model_selection import train_test_split\n",
    "import transformers\n",
    "from transformers import AutoTokenizer\n",
    "import torch\n",
    "import numpy as np\n",
    "from transformers import DistilBertTokenizer\n",
    "from transformers import DistilBertForSequenceClassification"
   ]
  },
  {
   "cell_type": "code",
   "execution_count": 2,
   "id": "d8102b74-f759-4af0-adea-4ca02d88ff7a",
   "metadata": {},
   "outputs": [
    {
     "data": {
      "text/html": [
       "<div>\n",
       "<style scoped>\n",
       "    .dataframe tbody tr th:only-of-type {\n",
       "        vertical-align: middle;\n",
       "    }\n",
       "\n",
       "    .dataframe tbody tr th {\n",
       "        vertical-align: top;\n",
       "    }\n",
       "\n",
       "    .dataframe thead th {\n",
       "        text-align: right;\n",
       "    }\n",
       "</style>\n",
       "<table border=\"1\" class=\"dataframe\">\n",
       "  <thead>\n",
       "    <tr style=\"text-align: right;\">\n",
       "      <th></th>\n",
       "      <th>Job Title</th>\n",
       "      <th>Job Description</th>\n",
       "    </tr>\n",
       "  </thead>\n",
       "  <tbody>\n",
       "    <tr>\n",
       "      <th>0</th>\n",
       "      <td>Flutter Developer</td>\n",
       "      <td>We are looking for hire experts flutter develo...</td>\n",
       "    </tr>\n",
       "    <tr>\n",
       "      <th>1</th>\n",
       "      <td>Django Developer</td>\n",
       "      <td>PYTHON/DJANGO (Developer/Lead) - Job Code(PDJ ...</td>\n",
       "    </tr>\n",
       "    <tr>\n",
       "      <th>2</th>\n",
       "      <td>Machine Learning</td>\n",
       "      <td>Data Scientist (Contractor)\\n\\nBangalore, IN\\n...</td>\n",
       "    </tr>\n",
       "  </tbody>\n",
       "</table>\n",
       "</div>"
      ],
      "text/plain": [
       "           Job Title                                    Job Description\n",
       "0  Flutter Developer  We are looking for hire experts flutter develo...\n",
       "1   Django Developer  PYTHON/DJANGO (Developer/Lead) - Job Code(PDJ ...\n",
       "2   Machine Learning  Data Scientist (Contractor)\\n\\nBangalore, IN\\n..."
      ]
     },
     "execution_count": 2,
     "metadata": {},
     "output_type": "execute_result"
    }
   ],
   "source": [
    "import pandas as pd\n",
    "df= pd.read_csv(\"E:\\ML\\Data\\job_title_des.csv\", usecols=['Job Title','Job Description'])#, names=['label','name', 'description']\n",
    "df.head(3)"
   ]
  },
  {
   "cell_type": "code",
   "execution_count": 3,
   "id": "77e3c224-edd6-4eee-bb39-0c387d7b46bb",
   "metadata": {},
   "outputs": [
    {
     "data": {
      "text/html": [
       "<div>\n",
       "<style scoped>\n",
       "    .dataframe tbody tr th:only-of-type {\n",
       "        vertical-align: middle;\n",
       "    }\n",
       "\n",
       "    .dataframe tbody tr th {\n",
       "        vertical-align: top;\n",
       "    }\n",
       "\n",
       "    .dataframe thead th {\n",
       "        text-align: right;\n",
       "    }\n",
       "</style>\n",
       "<table border=\"1\" class=\"dataframe\">\n",
       "  <thead>\n",
       "    <tr style=\"text-align: right;\">\n",
       "      <th></th>\n",
       "      <th>Job Title</th>\n",
       "      <th>Job Description</th>\n",
       "    </tr>\n",
       "  </thead>\n",
       "  <tbody>\n",
       "  </tbody>\n",
       "</table>\n",
       "</div>"
      ],
      "text/plain": [
       "Empty DataFrame\n",
       "Columns: [Job Title, Job Description]\n",
       "Index: []"
      ]
     },
     "execution_count": 3,
     "metadata": {},
     "output_type": "execute_result"
    }
   ],
   "source": [
    "df[df.isnull().any(axis=1)]"
   ]
  },
  {
   "cell_type": "code",
   "execution_count": 4,
   "id": "932680d6-7e9a-47c3-8df3-ebfa9466fc36",
   "metadata": {},
   "outputs": [],
   "source": [
    "df['Job Title Cleaned'] = df['Job Title'].str.lower().str.strip()\n",
    "unique_job_titles = df['Job Title Cleaned'].unique()\n",
    "label_to_id = {label: i for i, label in enumerate(unique_job_titles)}\n",
    "id_to_label = {label:i for label, i in enumerate(unique_job_titles)}\n",
    "df['labels'] = df['Job Title Cleaned'].map(label_to_id)"
   ]
  },
  {
   "cell_type": "code",
   "execution_count": 125,
   "id": "a190cd66-ce6b-4e97-8362-2bffbd906f68",
   "metadata": {},
   "outputs": [
    {
     "data": {
      "text/html": [
       "<div>\n",
       "<style scoped>\n",
       "    .dataframe tbody tr th:only-of-type {\n",
       "        vertical-align: middle;\n",
       "    }\n",
       "\n",
       "    .dataframe tbody tr th {\n",
       "        vertical-align: top;\n",
       "    }\n",
       "\n",
       "    .dataframe thead th {\n",
       "        text-align: right;\n",
       "    }\n",
       "</style>\n",
       "<table border=\"1\" class=\"dataframe\">\n",
       "  <thead>\n",
       "    <tr style=\"text-align: right;\">\n",
       "      <th></th>\n",
       "      <th>Job Title</th>\n",
       "      <th>Job Description</th>\n",
       "      <th>Job Title Cleaned</th>\n",
       "      <th>labels</th>\n",
       "    </tr>\n",
       "  </thead>\n",
       "  <tbody>\n",
       "    <tr>\n",
       "      <th>1074</th>\n",
       "      <td>Flutter Developer</td>\n",
       "      <td>As a Flutter Developer, you will create multi-...</td>\n",
       "      <td>flutter developer</td>\n",
       "      <td>0</td>\n",
       "    </tr>\n",
       "    <tr>\n",
       "      <th>1830</th>\n",
       "      <td>Backend Developer</td>\n",
       "      <td>Project Description:\\n\\nLuxoft FM technology p...</td>\n",
       "      <td>backend developer</td>\n",
       "      <td>12</td>\n",
       "    </tr>\n",
       "    <tr>\n",
       "      <th>1935</th>\n",
       "      <td>Software Engineer</td>\n",
       "      <td>Infoblox is seeking a Software Engineer I to j...</td>\n",
       "      <td>software engineer</td>\n",
       "      <td>8</td>\n",
       "    </tr>\n",
       "    <tr>\n",
       "      <th>1730</th>\n",
       "      <td>Database Administrator</td>\n",
       "      <td>database administrator ii responsible providin...</td>\n",
       "      <td>database administrator</td>\n",
       "      <td>9</td>\n",
       "    </tr>\n",
       "    <tr>\n",
       "      <th>1744</th>\n",
       "      <td>JavaScript Developer</td>\n",
       "      <td>About Accenture: Accenture is a leading global...</td>\n",
       "      <td>javascript developer</td>\n",
       "      <td>6</td>\n",
       "    </tr>\n",
       "    <tr>\n",
       "      <th>1588</th>\n",
       "      <td>Backend Developer</td>\n",
       "      <td>PiMARQ JD Code: 047\\n\\nRole Name: Backend Deve...</td>\n",
       "      <td>backend developer</td>\n",
       "      <td>12</td>\n",
       "    </tr>\n",
       "    <tr>\n",
       "      <th>279</th>\n",
       "      <td>PHP Developer</td>\n",
       "      <td>Kochi\\n\\nUrgent Requirements of Php/laravel De...</td>\n",
       "      <td>php developer</td>\n",
       "      <td>11</td>\n",
       "    </tr>\n",
       "    <tr>\n",
       "      <th>10</th>\n",
       "      <td>Database Administrator</td>\n",
       "      <td>richardsontexasunited state bausp4 boeing comp...</td>\n",
       "      <td>database administrator</td>\n",
       "      <td>9</td>\n",
       "    </tr>\n",
       "    <tr>\n",
       "      <th>2016</th>\n",
       "      <td>iOS Developer</td>\n",
       "      <td>Basic Requirements:\\nMin of 3 year’s solid exp...</td>\n",
       "      <td>ios developer</td>\n",
       "      <td>3</td>\n",
       "    </tr>\n",
       "    <tr>\n",
       "      <th>405</th>\n",
       "      <td>iOS Developer</td>\n",
       "      <td>iTool Solutions is looking for an iOS Develope...</td>\n",
       "      <td>ios developer</td>\n",
       "      <td>3</td>\n",
       "    </tr>\n",
       "    <tr>\n",
       "      <th>1542</th>\n",
       "      <td>iOS Developer</td>\n",
       "      <td>Experience delivering applications on iPhone/i...</td>\n",
       "      <td>ios developer</td>\n",
       "      <td>3</td>\n",
       "    </tr>\n",
       "    <tr>\n",
       "      <th>1571</th>\n",
       "      <td>Wordpress Developer</td>\n",
       "      <td>Job Summary\\nWe are seeking a WordPress Develo...</td>\n",
       "      <td>wordpress developer</td>\n",
       "      <td>10</td>\n",
       "    </tr>\n",
       "    <tr>\n",
       "      <th>57</th>\n",
       "      <td>Wordpress Developer</td>\n",
       "      <td>Please write back with your CV to and hr@rabsn...</td>\n",
       "      <td>wordpress developer</td>\n",
       "      <td>10</td>\n",
       "    </tr>\n",
       "    <tr>\n",
       "      <th>1770</th>\n",
       "      <td>Machine Learning</td>\n",
       "      <td>Job Summary\\nWe are a STEM Education provider ...</td>\n",
       "      <td>machine learning</td>\n",
       "      <td>2</td>\n",
       "    </tr>\n",
       "    <tr>\n",
       "      <th>492</th>\n",
       "      <td>iOS Developer</td>\n",
       "      <td>We are urgently looking for an iOS Developer w...</td>\n",
       "      <td>ios developer</td>\n",
       "      <td>3</td>\n",
       "    </tr>\n",
       "    <tr>\n",
       "      <th>1466</th>\n",
       "      <td>Software Engineer</td>\n",
       "      <td>Software Engineer with skills HTML 5, EJB,HTML...</td>\n",
       "      <td>software engineer</td>\n",
       "      <td>8</td>\n",
       "    </tr>\n",
       "    <tr>\n",
       "      <th>1044</th>\n",
       "      <td>PHP Developer</td>\n",
       "      <td>*Job Summary*\\n\\nTo handle project Independent...</td>\n",
       "      <td>php developer</td>\n",
       "      <td>11</td>\n",
       "    </tr>\n",
       "    <tr>\n",
       "      <th>645</th>\n",
       "      <td>Wordpress Developer</td>\n",
       "      <td>Category\\n:\\n\\nWordpress Developer\\n\\nJob Titl...</td>\n",
       "      <td>wordpress developer</td>\n",
       "      <td>10</td>\n",
       "    </tr>\n",
       "    <tr>\n",
       "      <th>857</th>\n",
       "      <td>Software Engineer</td>\n",
       "      <td>Experienced mid-level (3 to 5 years) developer...</td>\n",
       "      <td>software engineer</td>\n",
       "      <td>8</td>\n",
       "    </tr>\n",
       "    <tr>\n",
       "      <th>1629</th>\n",
       "      <td>Django Developer</td>\n",
       "      <td>Hyperdimensions is Transdisciplinary innovativ...</td>\n",
       "      <td>django developer</td>\n",
       "      <td>1</td>\n",
       "    </tr>\n",
       "  </tbody>\n",
       "</table>\n",
       "</div>"
      ],
      "text/plain": [
       "                   Job Title  \\\n",
       "1074       Flutter Developer   \n",
       "1830       Backend Developer   \n",
       "1935       Software Engineer   \n",
       "1730  Database Administrator   \n",
       "1744    JavaScript Developer   \n",
       "1588       Backend Developer   \n",
       "279            PHP Developer   \n",
       "10    Database Administrator   \n",
       "2016           iOS Developer   \n",
       "405            iOS Developer   \n",
       "1542           iOS Developer   \n",
       "1571     Wordpress Developer   \n",
       "57       Wordpress Developer   \n",
       "1770        Machine Learning   \n",
       "492            iOS Developer   \n",
       "1466       Software Engineer   \n",
       "1044           PHP Developer   \n",
       "645      Wordpress Developer   \n",
       "857        Software Engineer   \n",
       "1629        Django Developer   \n",
       "\n",
       "                                        Job Description  \\\n",
       "1074  As a Flutter Developer, you will create multi-...   \n",
       "1830  Project Description:\\n\\nLuxoft FM technology p...   \n",
       "1935  Infoblox is seeking a Software Engineer I to j...   \n",
       "1730  database administrator ii responsible providin...   \n",
       "1744  About Accenture: Accenture is a leading global...   \n",
       "1588  PiMARQ JD Code: 047\\n\\nRole Name: Backend Deve...   \n",
       "279   Kochi\\n\\nUrgent Requirements of Php/laravel De...   \n",
       "10    richardsontexasunited state bausp4 boeing comp...   \n",
       "2016  Basic Requirements:\\nMin of 3 year’s solid exp...   \n",
       "405   iTool Solutions is looking for an iOS Develope...   \n",
       "1542  Experience delivering applications on iPhone/i...   \n",
       "1571  Job Summary\\nWe are seeking a WordPress Develo...   \n",
       "57    Please write back with your CV to and hr@rabsn...   \n",
       "1770  Job Summary\\nWe are a STEM Education provider ...   \n",
       "492   We are urgently looking for an iOS Developer w...   \n",
       "1466  Software Engineer with skills HTML 5, EJB,HTML...   \n",
       "1044  *Job Summary*\\n\\nTo handle project Independent...   \n",
       "645   Category\\n:\\n\\nWordpress Developer\\n\\nJob Titl...   \n",
       "857   Experienced mid-level (3 to 5 years) developer...   \n",
       "1629  Hyperdimensions is Transdisciplinary innovativ...   \n",
       "\n",
       "           Job Title Cleaned  labels  \n",
       "1074       flutter developer       0  \n",
       "1830       backend developer      12  \n",
       "1935       software engineer       8  \n",
       "1730  database administrator       9  \n",
       "1744    javascript developer       6  \n",
       "1588       backend developer      12  \n",
       "279            php developer      11  \n",
       "10    database administrator       9  \n",
       "2016           ios developer       3  \n",
       "405            ios developer       3  \n",
       "1542           ios developer       3  \n",
       "1571     wordpress developer      10  \n",
       "57       wordpress developer      10  \n",
       "1770        machine learning       2  \n",
       "492            ios developer       3  \n",
       "1466       software engineer       8  \n",
       "1044           php developer      11  \n",
       "645      wordpress developer      10  \n",
       "857        software engineer       8  \n",
       "1629        django developer       1  "
      ]
     },
     "execution_count": 125,
     "metadata": {},
     "output_type": "execute_result"
    }
   ],
   "source": [
    "train_df.head(20)"
   ]
  },
  {
   "cell_type": "code",
   "execution_count": 6,
   "id": "ab1ad01d-bfde-4b47-8e9c-3d6699e8e87b",
   "metadata": {},
   "outputs": [],
   "source": [
    "from sklearn.model_selection import train_test_split\n",
    "train_df, test_df = train_test_split(df, test_size=0.2, random_state=42, stratify=df['labels'])"
   ]
  },
  {
   "cell_type": "code",
   "execution_count": 7,
   "id": "162f47f6-6fd7-4bda-8f0e-91c94fe85187",
   "metadata": {},
   "outputs": [
    {
     "name": "stderr",
     "output_type": "stream",
     "text": [
      "Some weights of DistilBertForSequenceClassification were not initialized from the model checkpoint at distilbert-base-uncased and are newly initialized: ['classifier.bias', 'classifier.weight', 'pre_classifier.bias', 'pre_classifier.weight']\n",
      "You should probably TRAIN this model on a down-stream task to be able to use it for predictions and inference.\n"
     ]
    }
   ],
   "source": [
    "num_labels = len(unique_job_titles)  # original 10, unique: 8\n",
    "\n",
    "model_name = \"distilbert-base-uncased\"\n",
    "tokenizer = DistilBertTokenizer.from_pretrained('distilbert-base-uncased')\n",
    "model = DistilBertForSequenceClassification.from_pretrained('distilbert-base-uncased',num_labels=num_labels)"
   ]
  },
  {
   "cell_type": "code",
   "execution_count": null,
   "id": "e3a488a6-a6af-4a31-9854-9e31518ecc0b",
   "metadata": {},
   "outputs": [],
   "source": []
  },
  {
   "cell_type": "code",
   "execution_count": 8,
   "id": "5dd691f8-d844-4cbd-bb0a-30a050a5b52e",
   "metadata": {},
   "outputs": [],
   "source": [
    "def manual_encode_data(df, tokenizer, max_length):\n",
    "    descriptions = df['Job Description'].tolist()\n",
    "    labels = df['labels'].tolist()\n",
    "\n",
    "    input_ids = []\n",
    "    attention_masks = []\n",
    "\n",
    "    for desc in descriptions:\n",
    "        encoded_dict = tokenizer.encode_plus(desc, add_special_tokens=True,max_length=max_length, padding='max_length',\n",
    "                                             truncation=True, return_attention_mask=True,return_tensors='pt')\n",
    "        input_ids.append(encoded_dict['input_ids'])        \n",
    "        attention_masks.append(encoded_dict['attention_mask'])\n",
    "\n",
    "    # Stack the list of tensors into a single tensor\n",
    "    input_ids = torch.cat(input_ids, dim=0) #row wise stacking\n",
    "    attention_masks = torch.cat(attention_masks, dim=0)\n",
    "    labels = torch.tensor(labels)\n",
    "    return input_ids, attention_masks, labels"
   ]
  },
  {
   "cell_type": "code",
   "execution_count": null,
   "id": "81fad7bb-efe2-4b16-98de-54b0275d5111",
   "metadata": {},
   "outputs": [],
   "source": []
  },
  {
   "cell_type": "code",
   "execution_count": 9,
   "id": "d35d8f73-b998-47af-ba44-5144289d2089",
   "metadata": {},
   "outputs": [],
   "source": [
    "max_length = 512\n",
    "train_input_ids, train_attention_mask, train_labels = manual_encode_data(train_df, tokenizer, max_length)\n",
    "test_input_ids, test_attention_mask, test_labels = manual_encode_data(test_df, tokenizer, max_length)"
   ]
  },
  {
   "cell_type": "code",
   "execution_count": 57,
   "id": "f4b1af6a-656f-47a9-adb0-739e90b60337",
   "metadata": {},
   "outputs": [
    {
     "data": {
      "text/plain": [
       "torch.Size([1821, 512])"
      ]
     },
     "execution_count": 57,
     "metadata": {},
     "output_type": "execute_result"
    }
   ],
   "source": [
    "train_input_ids.shape"
   ]
  },
  {
   "cell_type": "code",
   "execution_count": 58,
   "id": "dd5a1eb4-e3e3-44e9-8f9d-7e77c585b99f",
   "metadata": {},
   "outputs": [
    {
     "data": {
      "text/plain": [
       "torch.Size([1821])"
      ]
     },
     "execution_count": 58,
     "metadata": {},
     "output_type": "execute_result"
    }
   ],
   "source": [
    "train_labels.shape"
   ]
  },
  {
   "cell_type": "code",
   "execution_count": 11,
   "id": "2a388c9d-5a96-4050-b524-ad10a2390c5e",
   "metadata": {},
   "outputs": [],
   "source": [
    "from torch.utils.data import TensorDataset, DataLoader\n",
    "\n",
    "train_dataset = TensorDataset(train_input_ids, train_attention_mask, train_labels)\n",
    "test_dataset = TensorDataset(test_input_ids, test_attention_mask, test_labels)\n",
    "\n",
    "\n",
    "batch_size = 8 # Adjust based on your GPU memory\n",
    "train_dataloader = DataLoader(train_dataset, batch_size=batch_size, shuffle=True)\n",
    "test_dataloader = DataLoader(test_dataset, batch_size=batch_size, shuffle=False)"
   ]
  },
  {
   "cell_type": "code",
   "execution_count": null,
   "id": "60a09276-a295-407e-a104-a4e8016f9d42",
   "metadata": {},
   "outputs": [],
   "source": [
    "num_labels = len(unique_job_titles)\n",
    "model = DistilBertForSequenceClassification.from_pretrained('distilbert-base-uncased',num_labels=num_labels)\n",
    "\n",
    "# Move model to GPU if available\n",
    "device = torch.device('cuda' if torch.cuda.is_available() else 'cpu')\n",
    "model.to(device)"
   ]
  },
  {
   "cell_type": "code",
   "execution_count": 20,
   "id": "b4cc836e-105f-4bca-9661-0a87f6cad014",
   "metadata": {},
   "outputs": [],
   "source": [
    "optimizer = torch.optim.AdamW(model.parameters(), lr=5e-5)\n",
    "criterion = torch.nn.CrossEntropyLoss()"
   ]
  },
  {
   "cell_type": "code",
   "execution_count": 23,
   "id": "1d79ccdb-6fe5-4172-85a0-6984a3a7d29a",
   "metadata": {},
   "outputs": [
    {
     "name": "stdout",
     "output_type": "stream",
     "text": [
      "Epoch: 0 Iteration: 29 Loss: 0.28267167404294014\n",
      "Epoch: 0 Iteration: 59 Loss: 0.41201367408037187\n",
      "Epoch: 0 Iteration: 89 Loss: 0.39753485321998594\n",
      "Epoch: 0 Iteration: 119 Loss: 0.32261729255318644\n",
      "Epoch: 0 Iteration: 149 Loss: 0.310393425822258\n",
      "Epoch: 0 Iteration: 179 Loss: 0.3927838885784149\n",
      "Epoch: 0 Iteration: 209 Loss: 0.3738526917994022\n",
      "Epoch: 1 Iteration: 29 Loss: 0.21647955298423768\n",
      "Epoch: 1 Iteration: 59 Loss: 0.25230897329747676\n",
      "Epoch: 1 Iteration: 89 Loss: 0.2654202638566494\n",
      "Epoch: 1 Iteration: 119 Loss: 0.18561975307762624\n",
      "Epoch: 1 Iteration: 149 Loss: 0.2134556944295764\n",
      "Epoch: 1 Iteration: 179 Loss: 0.26608351975679395\n",
      "Epoch: 1 Iteration: 209 Loss: 0.2758141802251339\n",
      "Epoch: 2 Iteration: 29 Loss: 0.1393681166321039\n",
      "Epoch: 2 Iteration: 59 Loss: 0.12818842831999064\n",
      "Epoch: 2 Iteration: 89 Loss: 0.15849338624626397\n",
      "Epoch: 2 Iteration: 119 Loss: 0.16306732539087535\n",
      "Epoch: 2 Iteration: 149 Loss: 0.16892012454569338\n",
      "Epoch: 2 Iteration: 179 Loss: 0.14335621051490308\n",
      "Epoch: 2 Iteration: 209 Loss: 0.12348577305674553\n",
      "Epoch: 3 Iteration: 29 Loss: 0.04874592877924442\n",
      "Epoch: 3 Iteration: 59 Loss: 0.1295126462727785\n",
      "Epoch: 3 Iteration: 89 Loss: 0.08429137520492076\n",
      "Epoch: 3 Iteration: 119 Loss: 0.11950743554159998\n",
      "Epoch: 3 Iteration: 149 Loss: 0.1239514208957553\n",
      "Epoch: 3 Iteration: 179 Loss: 0.09653470734134316\n",
      "Epoch: 3 Iteration: 209 Loss: 0.11011314289644361\n"
     ]
    }
   ],
   "source": [
    "#from torch.cuda.amp import GradScaler, autocast # Import these\n",
    "#scaler = GradScaler()\n",
    "num_epochs = 4\n",
    "torch.cuda.empty_cache()\n",
    "train_loss_values = []\n",
    "for epoch in range(num_epochs):\n",
    "    running_loss = 0\n",
    "    batches_processed_in_interval = 0\n",
    "    for i , (inputs, attention_mask, labels) in enumerate(train_dataloader):\n",
    "        optimizer.zero_grad()\n",
    "        inputs = inputs.to(device)\n",
    "        labels = labels.to(device)\n",
    "        attention_mask = attention_mask.to(device)        \n",
    "        outputs = model(input_ids=inputs, attention_mask=attention_mask)\n",
    "        logits = outputs.logits\n",
    "        loss = criterion(logits, labels)\n",
    "        loss.backward()\n",
    "        optimizer.step()\n",
    "        running_loss += loss.item()\n",
    "        batches_processed_in_interval +=1\n",
    "        if (batches_processed_in_interval % 30) == 0:\n",
    "            print(f\"Epoch: {epoch} Iteration: {i} Loss: {running_loss/50}\")\n",
    "            train_loss_values.append(running_loss/50)\n",
    "            running_loss = 0.0"
   ]
  },
  {
   "cell_type": "code",
   "execution_count": 22,
   "id": "dc014da8-bfc7-4af3-acc5-c1ff56b4def4",
   "metadata": {},
   "outputs": [
    {
     "data": {
      "text/plain": [
       "228"
      ]
     },
     "execution_count": 22,
     "metadata": {},
     "output_type": "execute_result"
    }
   ],
   "source": [
    "len(train_dataloader)"
   ]
  },
  {
   "cell_type": "code",
   "execution_count": 25,
   "id": "c70a8dac-1487-4638-b889-325417b18c54",
   "metadata": {},
   "outputs": [
    {
     "data": {
      "image/png": "[encoded data removed]",
      "text/plain": [
       "<Figure size 640x480 with 1 Axes>"
      ]
     },
     "metadata": {},
     "output_type": "display_data"
    }
   ],
   "source": [
    "import matplotlib.pyplot as plt\n",
    "plt.plot(np.arange(len(train_loss_values)), train_loss_values)\n",
    "plt.title(\"Training Loss over Iterations\")\n",
    "plt.xlabel(\"Iteration\")\n",
    "plt.ylabel(\"Training Loss\")\n",
    "plt.show()"
   ]
  },
  {
   "cell_type": "code",
   "execution_count": 26,
   "id": "ec48fb7b-0498-440c-9bcd-aacc97803b50",
   "metadata": {},
   "outputs": [],
   "source": [
    "model.eval()\n",
    "predictions=[]\n",
    "true_labels=[]\n",
    "with torch.no_grad():\n",
    "    for inputs,attention_mask,labels in test_dataloader:\n",
    "        inputs = inputs.to(device)\n",
    "        labels = labels.to(device)\n",
    "        attention_mask = attention_mask.to(device)\n",
    "        outputs = model(input_ids=inputs, attention_mask=attention_mask)\n",
    "        _, predicted = torch.max(outputs[0],dim=1)\n",
    "        predictions.extend(predicted.cpu().numpy().tolist())\n",
    "        true_labels.extend(labels.cpu().numpy().tolist())"
   ]
  },
  {
   "cell_type": "code",
   "execution_count": 27,
   "id": "8ec11292-c8e6-4a13-bae3-85313017e561",
   "metadata": {},
   "outputs": [
    {
     "name": "stdout",
     "output_type": "stream",
     "text": [
      "F1 Score: 0.8577597677320399\n",
      "Confusion Matrix:\n",
      "[[30  0  0  1  0  0  0  0  0  0  0  0  0  0  0]\n",
      " [ 0 30  0  0  0  0  0  0  0  0  0  0  1  0  0]\n",
      " [ 0  0 29  0  0  0  0  0  1  0  0  0  1  0  0]\n",
      " [ 0  0  1 30  0  0  0  0  0  0  1  0  0  0  0]\n",
      " [ 0  0  0  0 28  0  0  0  0  0  0  0  0  0  0]\n",
      " [ 1  0  0  0  0 22  1  1  4  0  0  1  2  0  0]\n",
      " [ 0  0  0  0  0  1 24  0  2  0  0  1  4  0  1]\n",
      " [ 0  1  0  0  0  1  0 28  0  0  0  0  1  0  0]\n",
      " [ 0  0  1  0  0  1  0  2 25  0  0  0  3  0  0]\n",
      " [ 0  0  0  0  2  0  0  0  0 26  0  0  0  0  0]\n",
      " [ 0  0  0  0  0  0  0  0  0  0 25  0  1  0  0]\n",
      " [ 0  0  0  1  0  0  0  0  0  0  4 23  3  0  0]\n",
      " [ 1  4  0  0  0  2  0  0  1  0  2  1 18  0  0]\n",
      " [ 0  0  0  0  0  0  0  2  2  0  0  0  0 25  0]\n",
      " [ 0  0  0  0  0  1  2  0  0  0  0  0  2  0 27]]\n",
      "Classification Report:\n",
      "              precision    recall  f1-score   support\n",
      "\n",
      "           0       0.94      0.97      0.95        31\n",
      "           1       0.86      0.97      0.91        31\n",
      "           2       0.94      0.94      0.94        31\n",
      "           3       0.94      0.94      0.94        32\n",
      "           4       0.93      1.00      0.97        28\n",
      "           5       0.79      0.69      0.73        32\n",
      "           6       0.89      0.73      0.80        33\n",
      "           7       0.85      0.90      0.88        31\n",
      "           8       0.71      0.78      0.75        32\n",
      "           9       1.00      0.93      0.96        28\n",
      "          10       0.78      0.96      0.86        26\n",
      "          11       0.88      0.74      0.81        31\n",
      "          12       0.50      0.62      0.55        29\n",
      "          13       1.00      0.86      0.93        29\n",
      "          14       0.96      0.84      0.90        32\n",
      "\n",
      "    accuracy                           0.86       456\n",
      "   macro avg       0.86      0.86      0.86       456\n",
      "weighted avg       0.87      0.86      0.86       456\n",
      "\n"
     ]
    }
   ],
   "source": [
    "from sklearn.metrics import f1_score, confusion_matrix, classification_report\n",
    "f1 = f1_score(true_labels, predictions, average='macro')\n",
    "print(f\"F1 Score: {f1}\")\n",
    "# Confusion Matrix\n",
    "print(\"Confusion Matrix:\")\n",
    "print(confusion_matrix(true_labels, predictions))\n",
    "# Classification Report\n",
    "print(\"Classification Report:\")\n",
    "print(classification_report(true_labels, predictions))"
   ]
  },
  {
   "cell_type": "code",
   "execution_count": 49,
   "id": "fc8c5873-4977-480c-838c-9cdadab34684",
   "metadata": {},
   "outputs": [],
   "source": [
    "def predict_job_title_manual(description, model, tokenizer, id_to_label, top_k=5):\n",
    "    model.eval()\n",
    "    \n",
    "    # Manually encode the query description\n",
    "    encoded_dict = tokenizer.encode_plus(\n",
    "        description,\n",
    "        add_special_tokens=True,\n",
    "        max_length=max_length,\n",
    "        padding='max_length',\n",
    "        truncation=True,\n",
    "        return_attention_mask=True,\n",
    "        return_tensors='pt',\n",
    "    )\n",
    "    \n",
    "    inputs = {\n",
    "        'input_ids': encoded_dict['input_ids'],\n",
    "        'attention_mask': encoded_dict['attention_mask']\n",
    "    }\n",
    "    \n",
    "    device = torch.device(\"cuda\" if torch.cuda.is_available() else \"cpu\")\n",
    "    inputs = {k: v.to(device) for k, v in inputs.items()}\n",
    "    model.to(device) # Ensure model is on the correct device\n",
    "\n",
    "    with torch.no_grad():\n",
    "        outputs = model(**inputs)\n",
    "    \n",
    "    logits = outputs.logits\n",
    "    probabilities = torch.softmax(logits, dim=1)\n",
    "    \n",
    "    top_k_probs, top_k_indices = torch.topk(probabilities, top_k)\n",
    "    \n",
    "    predictions = []\n",
    "    for i in range(top_k):\n",
    "        predicted_id = top_k_indices[0][i].item()\n",
    "        predicted_label = id_to_label[predicted_id]\n",
    "        probability = top_k_probs[0][i].item()\n",
    "        predictions.append({\"Job Title\": predicted_label, \"Probability\": probability})\n",
    "        \n",
    "    return predictions"
   ]
  },
  {
   "cell_type": "code",
   "execution_count": 123,
   "id": "226542fb-9ec7-44f3-acf6-01c88bba6e34",
   "metadata": {},
   "outputs": [
    {
     "name": "stdout",
     "output_type": "stream",
     "text": [
      "\n",
      "Query Description: Seeking a highly motivated individual with experience in data analysis, machine learning, and Python programming. Responsibilities include building predictive models and developing data pipelines.\n",
      "\n",
      "Most probable Job Titles:\n",
      "- machine learning (Probability: 0.9909)\n",
      "- software engineer (Probability: 0.0031)\n",
      "- java developer (Probability: 0.0012)\n",
      "\n",
      "Query Description: designing and implementing user interfaces for web applications using html, css\n",
      "\n",
      "Most probable Job Titles:\n",
      "- javascript developer (Probability: 0.8939)\n",
      "- backend developer (Probability: 0.0581)\n",
      "- software engineer (Probability: 0.0259)\n"
     ]
    }
   ],
   "source": [
    "# Example usage:\n",
    "query_description = \"Seeking a highly motivated individual with experience in data analysis, machine learning, and Python programming. Responsibilities include building predictive models and developing data pipelines.\"\n",
    "predicted_job_titles = predict_job_title_manual(query_description, model, tokenizer, id_to_label, top_k=3)\n",
    "print(f\"\\nQuery Description: {query_description}\\n\")\n",
    "print(\"Most probable Job Titles:\")\n",
    "for pred in predicted_job_titles:\n",
    "    print(f\"- {pred['Job Title']} (Probability: {pred['Probability']:.4f})\")\n",
    "\n",
    "\n",
    "query_description_2 = \"designing and implementing user interfaces for web applications using html, css\"\n",
    "predicted_job_titles_2 = predict_job_title_manual(query_description_2, model, tokenizer, id_to_label, top_k=3)\n",
    "print(f\"\\nQuery Description: {query_description_2}\\n\")\n",
    "print(\"Most probable Job Titles:\")\n",
    "for pred in predicted_job_titles_2:\n",
    "    print(f\"- {pred['Job Title']} (Probability: {pred['Probability']:.4f})\")"
   ]
  },
  {
   "cell_type": "code",
   "execution_count": 54,
   "id": "252934dd-418c-44aa-8e7b-72c12702a2b5",
   "metadata": {},
   "outputs": [
    {
     "data": {
      "text/plain": [
       "{'flutter developer': 0,\n",
       " 'django developer': 1,\n",
       " 'machine learning': 2,\n",
       " 'ios developer': 3,\n",
       " 'full stack developer': 4,\n",
       " 'java developer': 5,\n",
       " 'javascript developer': 6,\n",
       " 'devops engineer': 7,\n",
       " 'software engineer': 8,\n",
       " 'database administrator': 9,\n",
       " 'wordpress developer': 10,\n",
       " 'php developer': 11,\n",
       " 'backend developer': 12,\n",
       " 'network administrator': 13,\n",
       " 'node js developer': 14}"
      ]
     },
     "execution_count": 54,
     "metadata": {},
     "output_type": "execute_result"
    }
   ],
   "source": [
    "label_to_id"
   ]
  },
  {
   "cell_type": "code",
   "execution_count": null,
   "id": "06f3b1e7-2c7a-42d9-91e1-f77dca84075f",
   "metadata": {},
   "outputs": [],
   "source": [
    "\n"
   ]
  },
  {
   "cell_type": "code",
   "execution_count": null,
   "id": "58dfdd44-2567-4a2f-a4e5-84837c34a8b5",
   "metadata": {},
   "outputs": [],
   "source": []
  },
  {
   "cell_type": "code",
   "execution_count": null,
   "id": "8c2bfc53-afbf-47ea-8e30-b7de9f88b2b6",
   "metadata": {},
   "outputs": [],
   "source": []
  },
  {
   "cell_type": "code",
   "execution_count": null,
   "id": "b63c68fe-257f-41b4-9caf-1dfa63abc339",
   "metadata": {},
   "outputs": [],
   "source": [
    "#BERT tokenizer"
   ]
  },
  {
   "cell_type": "code",
   "execution_count": 122,
   "id": "ab7d7467-624f-4452-90e9-9c0f93904cc4",
   "metadata": {},
   "outputs": [],
   "source": [
    "\n",
    "\n",
    "from datasets import load_dataset\n",
    "from transformers import BertTokenizerFast\n",
    "\n",
    "\n",
    "dataset=load_dataset(\"squad\")\n",
    "tokenizer=BertTokenizerFast.from_pretrained(\"bert-base-uncased\")\n",
    "\n",
    "\n",
    "example = dataset['train'][0]\n",
    "inputs = tokenizer(\n",
    "        example[\"question\"],\n",
    "        example[\"context\"],\n",
    "        truncation=True,\n",
    "        padding=\"max_length\",\n",
    "        max_length=384,\n",
    "        return_offsets_mapping=True,\n",
    "    )"
   ]
  },
  {
   "cell_type": "code",
   "execution_count": null,
   "id": "083033a3-246b-455f-93a7-a9fcdb6b4eba",
   "metadata": {},
   "outputs": [],
   "source": []
  }
 ],
 "metadata": {
  "kernelspec": {
   "display_name": "Python 3 (ipykernel)",
   "language": "python",
   "name": "python3"
  },
  "language_info": {
   "codemirror_mode": {
    "name": "ipython",
    "version": 3
   },
   "file_extension": ".py",
   "mimetype": "text/x-python",
   "name": "python",
   "nbconvert_exporter": "python",
   "pygments_lexer": "ipython3",
   "version": "3.12.9"
  }
 },
 "nbformat": 4,
 "nbformat_minor": 5
}
